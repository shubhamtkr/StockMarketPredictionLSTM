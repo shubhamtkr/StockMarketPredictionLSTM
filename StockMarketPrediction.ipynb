{
  "nbformat": 4,
  "nbformat_minor": 0,
  "metadata": {
    "colab": {
      "provenance": []
    },
    "kernelspec": {
      "name": "python3",
      "display_name": "Python 3"
    },
    "language_info": {
      "name": "python"
    }
  },
  "cells": [
    {
      "cell_type": "code",
      "execution_count": null,
      "metadata": {
        "id": "bZMHIO1Sxk9b"
      },
      "outputs": [],
      "source": [
        "import numpy as np\n",
        "import matplotlib.pyplot as plt\n",
        "import pandas as pd\n",
        "from sklearn.preprocessing import MinMaxScaler\n",
        "from keras.models import Sequential\n",
        "from keras.layers import Dense\n",
        "from keras.layers import LSTM\n",
        "from keras.layers import Dropout"
      ]
    },
    {
      "cell_type": "code",
      "source": [
        "train = pd.read_csv('/content/Google_Stock_Price_Train.csv')"
      ],
      "metadata": {
        "id": "-3jtv-vKy3nZ"
      },
      "execution_count": null,
      "outputs": []
    },
    {
      "cell_type": "code",
      "source": [
        "train.head()"
      ],
      "metadata": {
        "colab": {
          "base_uri": "https://localhost:8080/",
          "height": 201
        },
        "id": "qZahN1jvy9Mq",
        "outputId": "2b6ca8a2-5b01-46c1-ebbc-82d30273d2ac"
      },
      "execution_count": null,
      "outputs": [
        {
          "output_type": "execute_result",
          "data": {
            "text/plain": [
              "       Date    Open    High     Low   Close      Volume\n",
              "0  1/3/2012  325.25  332.83  324.97  663.59   7,380,500\n",
              "1  1/4/2012  331.27  333.87  329.08  666.45   5,749,400\n",
              "2  1/5/2012  329.83  330.75  326.89  657.21   6,590,300\n",
              "3  1/6/2012  328.34  328.77  323.68  648.24   5,405,900\n",
              "4  1/9/2012  322.04  322.29  309.46  620.76  11,688,800"
            ],
            "text/html": [
              "\n",
              "  <div id=\"df-7bf53b90-e0ad-4c9e-90b3-910884c44fc3\">\n",
              "    <div class=\"colab-df-container\">\n",
              "      <div>\n",
              "<style scoped>\n",
              "    .dataframe tbody tr th:only-of-type {\n",
              "        vertical-align: middle;\n",
              "    }\n",
              "\n",
              "    .dataframe tbody tr th {\n",
              "        vertical-align: top;\n",
              "    }\n",
              "\n",
              "    .dataframe thead th {\n",
              "        text-align: right;\n",
              "    }\n",
              "</style>\n",
              "<table border=\"1\" class=\"dataframe\">\n",
              "  <thead>\n",
              "    <tr style=\"text-align: right;\">\n",
              "      <th></th>\n",
              "      <th>Date</th>\n",
              "      <th>Open</th>\n",
              "      <th>High</th>\n",
              "      <th>Low</th>\n",
              "      <th>Close</th>\n",
              "      <th>Volume</th>\n",
              "    </tr>\n",
              "  </thead>\n",
              "  <tbody>\n",
              "    <tr>\n",
              "      <th>0</th>\n",
              "      <td>1/3/2012</td>\n",
              "      <td>325.25</td>\n",
              "      <td>332.83</td>\n",
              "      <td>324.97</td>\n",
              "      <td>663.59</td>\n",
              "      <td>7,380,500</td>\n",
              "    </tr>\n",
              "    <tr>\n",
              "      <th>1</th>\n",
              "      <td>1/4/2012</td>\n",
              "      <td>331.27</td>\n",
              "      <td>333.87</td>\n",
              "      <td>329.08</td>\n",
              "      <td>666.45</td>\n",
              "      <td>5,749,400</td>\n",
              "    </tr>\n",
              "    <tr>\n",
              "      <th>2</th>\n",
              "      <td>1/5/2012</td>\n",
              "      <td>329.83</td>\n",
              "      <td>330.75</td>\n",
              "      <td>326.89</td>\n",
              "      <td>657.21</td>\n",
              "      <td>6,590,300</td>\n",
              "    </tr>\n",
              "    <tr>\n",
              "      <th>3</th>\n",
              "      <td>1/6/2012</td>\n",
              "      <td>328.34</td>\n",
              "      <td>328.77</td>\n",
              "      <td>323.68</td>\n",
              "      <td>648.24</td>\n",
              "      <td>5,405,900</td>\n",
              "    </tr>\n",
              "    <tr>\n",
              "      <th>4</th>\n",
              "      <td>1/9/2012</td>\n",
              "      <td>322.04</td>\n",
              "      <td>322.29</td>\n",
              "      <td>309.46</td>\n",
              "      <td>620.76</td>\n",
              "      <td>11,688,800</td>\n",
              "    </tr>\n",
              "  </tbody>\n",
              "</table>\n",
              "</div>\n",
              "      <button class=\"colab-df-convert\" onclick=\"convertToInteractive('df-7bf53b90-e0ad-4c9e-90b3-910884c44fc3')\"\n",
              "              title=\"Convert this dataframe to an interactive table.\"\n",
              "              style=\"display:none;\">\n",
              "        \n",
              "  <svg xmlns=\"http://www.w3.org/2000/svg\" height=\"24px\"viewBox=\"0 0 24 24\"\n",
              "       width=\"24px\">\n",
              "    <path d=\"M0 0h24v24H0V0z\" fill=\"none\"/>\n",
              "    <path d=\"M18.56 5.44l.94 2.06.94-2.06 2.06-.94-2.06-.94-.94-2.06-.94 2.06-2.06.94zm-11 1L8.5 8.5l.94-2.06 2.06-.94-2.06-.94L8.5 2.5l-.94 2.06-2.06.94zm10 10l.94 2.06.94-2.06 2.06-.94-2.06-.94-.94-2.06-.94 2.06-2.06.94z\"/><path d=\"M17.41 7.96l-1.37-1.37c-.4-.4-.92-.59-1.43-.59-.52 0-1.04.2-1.43.59L10.3 9.45l-7.72 7.72c-.78.78-.78 2.05 0 2.83L4 21.41c.39.39.9.59 1.41.59.51 0 1.02-.2 1.41-.59l7.78-7.78 2.81-2.81c.8-.78.8-2.07 0-2.86zM5.41 20L4 18.59l7.72-7.72 1.47 1.35L5.41 20z\"/>\n",
              "  </svg>\n",
              "      </button>\n",
              "      \n",
              "  <style>\n",
              "    .colab-df-container {\n",
              "      display:flex;\n",
              "      flex-wrap:wrap;\n",
              "      gap: 12px;\n",
              "    }\n",
              "\n",
              "    .colab-df-convert {\n",
              "      background-color: #E8F0FE;\n",
              "      border: none;\n",
              "      border-radius: 50%;\n",
              "      cursor: pointer;\n",
              "      display: none;\n",
              "      fill: #1967D2;\n",
              "      height: 32px;\n",
              "      padding: 0 0 0 0;\n",
              "      width: 32px;\n",
              "    }\n",
              "\n",
              "    .colab-df-convert:hover {\n",
              "      background-color: #E2EBFA;\n",
              "      box-shadow: 0px 1px 2px rgba(60, 64, 67, 0.3), 0px 1px 3px 1px rgba(60, 64, 67, 0.15);\n",
              "      fill: #174EA6;\n",
              "    }\n",
              "\n",
              "    [theme=dark] .colab-df-convert {\n",
              "      background-color: #3B4455;\n",
              "      fill: #D2E3FC;\n",
              "    }\n",
              "\n",
              "    [theme=dark] .colab-df-convert:hover {\n",
              "      background-color: #434B5C;\n",
              "      box-shadow: 0px 1px 3px 1px rgba(0, 0, 0, 0.15);\n",
              "      filter: drop-shadow(0px 1px 2px rgba(0, 0, 0, 0.3));\n",
              "      fill: #FFFFFF;\n",
              "    }\n",
              "  </style>\n",
              "\n",
              "      <script>\n",
              "        const buttonEl =\n",
              "          document.querySelector('#df-7bf53b90-e0ad-4c9e-90b3-910884c44fc3 button.colab-df-convert');\n",
              "        buttonEl.style.display =\n",
              "          google.colab.kernel.accessAllowed ? 'block' : 'none';\n",
              "\n",
              "        async function convertToInteractive(key) {\n",
              "          const element = document.querySelector('#df-7bf53b90-e0ad-4c9e-90b3-910884c44fc3');\n",
              "          const dataTable =\n",
              "            await google.colab.kernel.invokeFunction('convertToInteractive',\n",
              "                                                     [key], {});\n",
              "          if (!dataTable) return;\n",
              "\n",
              "          const docLinkHtml = 'Like what you see? Visit the ' +\n",
              "            '<a target=\"_blank\" href=https://colab.research.google.com/notebooks/data_table.ipynb>data table notebook</a>'\n",
              "            + ' to learn more about interactive tables.';\n",
              "          element.innerHTML = '';\n",
              "          dataTable['output_type'] = 'display_data';\n",
              "          await google.colab.output.renderOutput(dataTable, element);\n",
              "          const docLink = document.createElement('div');\n",
              "          docLink.innerHTML = docLinkHtml;\n",
              "          element.appendChild(docLink);\n",
              "        }\n",
              "      </script>\n",
              "    </div>\n",
              "  </div>\n",
              "  "
            ]
          },
          "metadata": {},
          "execution_count": 4
        }
      ]
    },
    {
      "cell_type": "code",
      "source": [
        "training_set=train.iloc[:,1:2].values"
      ],
      "metadata": {
        "id": "JJ6TdcvIzGmO"
      },
      "execution_count": null,
      "outputs": []
    },
    {
      "cell_type": "code",
      "source": [
        "training_set"
      ],
      "metadata": {
        "colab": {
          "base_uri": "https://localhost:8080/"
        },
        "id": "0qy9nFFFzIRA",
        "outputId": "14f13c76-a2fe-4526-c166-a37bc367fb51"
      },
      "execution_count": null,
      "outputs": [
        {
          "output_type": "execute_result",
          "data": {
            "text/plain": [
              "array([[325.25],\n",
              "       [331.27],\n",
              "       [329.83],\n",
              "       ...,\n",
              "       [793.7 ],\n",
              "       [783.33],\n",
              "       [782.75]])"
            ]
          },
          "metadata": {},
          "execution_count": 6
        }
      ]
    },
    {
      "cell_type": "code",
      "source": [
        "sc = MinMaxScaler(feature_range = (0, 1))\n",
        "training_set_scaled = sc.fit_transform(training_set)"
      ],
      "metadata": {
        "id": "5PI0qTDUzKdt"
      },
      "execution_count": null,
      "outputs": []
    },
    {
      "cell_type": "code",
      "source": [
        "training_set_scaled.shape"
      ],
      "metadata": {
        "colab": {
          "base_uri": "https://localhost:8080/"
        },
        "id": "Q6GhBqfEzMTK",
        "outputId": "7ab84660-2d44-4320-f794-861a9ee32c5a"
      },
      "execution_count": null,
      "outputs": [
        {
          "output_type": "execute_result",
          "data": {
            "text/plain": [
              "(1258, 1)"
            ]
          },
          "metadata": {},
          "execution_count": 8
        }
      ]
    },
    {
      "cell_type": "code",
      "source": [
        "X_train=[]\n",
        "y_train=[]\n",
        "for i in range(60,1258):\n",
        "    X_train.append(training_set_scaled[i-60:i,0])\n",
        "    y_train.append(training_set_scaled[i,0])\n",
        "X_train, y_train = np.array(X_train), np.array(y_train)"
      ],
      "metadata": {
        "id": "3m5f0FGVzOcV"
      },
      "execution_count": null,
      "outputs": []
    },
    {
      "cell_type": "code",
      "source": [
        "#reshape it to (batche_size(#size of inputs),timesteps,input_dimension)\n",
        "X_train = np.reshape(X_train, (X_train.shape[0], X_train.shape[1], 1))"
      ],
      "metadata": {
        "id": "pQio_gdczRT6"
      },
      "execution_count": null,
      "outputs": []
    },
    {
      "cell_type": "code",
      "source": [
        "X_train.shape"
      ],
      "metadata": {
        "colab": {
          "base_uri": "https://localhost:8080/"
        },
        "id": "WQ4l5-0ezTnH",
        "outputId": "6a167452-dc88-4071-a067-e0133a8e674a"
      },
      "execution_count": null,
      "outputs": [
        {
          "output_type": "execute_result",
          "data": {
            "text/plain": [
              "(1198, 60, 1)"
            ]
          },
          "metadata": {},
          "execution_count": 11
        }
      ]
    },
    {
      "cell_type": "code",
      "source": [
        "regressor=Sequential()"
      ],
      "metadata": {
        "id": "Vf7CJGIazYri"
      },
      "execution_count": null,
      "outputs": []
    },
    {
      "cell_type": "code",
      "source": [
        "regressor.add(LSTM(units=100,return_sequences=True,input_shape=(X_train.shape[1], 1)))\n",
        "regressor.add(Dropout(0.4))"
      ],
      "metadata": {
        "id": "S6-2KEv-zako"
      },
      "execution_count": null,
      "outputs": []
    },
    {
      "cell_type": "code",
      "source": [
        "regressor.add(LSTM(units=100,return_sequences=True))\n",
        "regressor.add(Dropout(0.6))"
      ],
      "metadata": {
        "id": "aSm_LTzczcab"
      },
      "execution_count": null,
      "outputs": []
    },
    {
      "cell_type": "code",
      "source": [
        "regressor.add(LSTM(units=100,return_sequences=True))\n",
        "regressor.add(Dropout(0.6))"
      ],
      "metadata": {
        "id": "lm6cx8UkzecX"
      },
      "execution_count": null,
      "outputs": []
    },
    {
      "cell_type": "code",
      "source": [
        "regressor.add(LSTM(units=100))\n",
        "regressor.add(Dropout(0.4))"
      ],
      "metadata": {
        "id": "evzXmwfUzgWx"
      },
      "execution_count": null,
      "outputs": []
    },
    {
      "cell_type": "code",
      "source": [
        "regressor.add(Dense(units=1))"
      ],
      "metadata": {
        "id": "Wx19TxvaziTx"
      },
      "execution_count": null,
      "outputs": []
    },
    {
      "cell_type": "code",
      "source": [
        "regressor.compile(optimizer='adam',loss='mean_squared_error')"
      ],
      "metadata": {
        "id": "yxXxiSwezka6"
      },
      "execution_count": null,
      "outputs": []
    },
    {
      "cell_type": "code",
      "source": [
        "regressor.fit(X_train,y_train,epochs=100,batch_size=32)"
      ],
      "metadata": {
        "colab": {
          "base_uri": "https://localhost:8080/"
        },
        "id": "lucJTV02zmZw",
        "outputId": "5dfb12b3-9c20-4401-ee06-163076c4e1cf"
      },
      "execution_count": null,
      "outputs": [
        {
          "output_type": "stream",
          "name": "stdout",
          "text": [
            "Epoch 1/100\n",
            "38/38 [==============================] - 16s 206ms/step - loss: 0.0368\n",
            "Epoch 2/100\n",
            "38/38 [==============================] - 7s 180ms/step - loss: 0.0080\n",
            "Epoch 3/100\n",
            "38/38 [==============================] - 8s 201ms/step - loss: 0.0068\n",
            "Epoch 4/100\n",
            "38/38 [==============================] - 7s 181ms/step - loss: 0.0059\n",
            "Epoch 5/100\n",
            "38/38 [==============================] - 8s 196ms/step - loss: 0.0062\n",
            "Epoch 6/100\n",
            "38/38 [==============================] - 8s 202ms/step - loss: 0.0067\n",
            "Epoch 7/100\n",
            "38/38 [==============================] - 7s 180ms/step - loss: 0.0054\n",
            "Epoch 8/100\n",
            "38/38 [==============================] - 8s 203ms/step - loss: 0.0054\n",
            "Epoch 9/100\n",
            "38/38 [==============================] - 7s 186ms/step - loss: 0.0050\n",
            "Epoch 10/100\n",
            "38/38 [==============================] - 8s 196ms/step - loss: 0.0050\n",
            "Epoch 11/100\n",
            "38/38 [==============================] - 8s 207ms/step - loss: 0.0060\n",
            "Epoch 12/100\n",
            "38/38 [==============================] - 7s 185ms/step - loss: 0.0045\n",
            "Epoch 13/100\n",
            "38/38 [==============================] - 8s 204ms/step - loss: 0.0047\n",
            "Epoch 14/100\n",
            "38/38 [==============================] - 8s 200ms/step - loss: 0.0049\n",
            "Epoch 15/100\n",
            "38/38 [==============================] - 7s 181ms/step - loss: 0.0045\n",
            "Epoch 16/100\n",
            "38/38 [==============================] - 8s 200ms/step - loss: 0.0047\n",
            "Epoch 17/100\n",
            "38/38 [==============================] - 7s 182ms/step - loss: 0.0042\n",
            "Epoch 18/100\n",
            "38/38 [==============================] - 8s 204ms/step - loss: 0.0041\n",
            "Epoch 19/100\n",
            "38/38 [==============================] - 8s 204ms/step - loss: 0.0039\n",
            "Epoch 20/100\n",
            "38/38 [==============================] - 7s 180ms/step - loss: 0.0041\n",
            "Epoch 21/100\n",
            "38/38 [==============================] - 8s 204ms/step - loss: 0.0041\n",
            "Epoch 22/100\n",
            "38/38 [==============================] - 7s 185ms/step - loss: 0.0039\n",
            "Epoch 23/100\n",
            "38/38 [==============================] - 8s 197ms/step - loss: 0.0040\n",
            "Epoch 24/100\n",
            "38/38 [==============================] - 7s 197ms/step - loss: 0.0039\n",
            "Epoch 25/100\n",
            "38/38 [==============================] - 7s 177ms/step - loss: 0.0033\n",
            "Epoch 26/100\n",
            "38/38 [==============================] - 8s 200ms/step - loss: 0.0035\n",
            "Epoch 27/100\n",
            "38/38 [==============================] - 7s 188ms/step - loss: 0.0043\n",
            "Epoch 28/100\n",
            "38/38 [==============================] - 7s 187ms/step - loss: 0.0038\n",
            "Epoch 29/100\n",
            "38/38 [==============================] - 8s 198ms/step - loss: 0.0043\n",
            "Epoch 30/100\n",
            "38/38 [==============================] - 7s 179ms/step - loss: 0.0036\n",
            "Epoch 31/100\n",
            "38/38 [==============================] - 8s 200ms/step - loss: 0.0037\n",
            "Epoch 32/100\n",
            "38/38 [==============================] - 7s 188ms/step - loss: 0.0036\n",
            "Epoch 33/100\n",
            "38/38 [==============================] - 7s 187ms/step - loss: 0.0032\n",
            "Epoch 34/100\n",
            "38/38 [==============================] - 8s 199ms/step - loss: 0.0035\n",
            "Epoch 35/100\n",
            "38/38 [==============================] - 7s 185ms/step - loss: 0.0033\n",
            "Epoch 36/100\n",
            "38/38 [==============================] - 8s 203ms/step - loss: 0.0034\n",
            "Epoch 37/100\n",
            "38/38 [==============================] - 7s 195ms/step - loss: 0.0036\n",
            "Epoch 38/100\n",
            "38/38 [==============================] - 7s 180ms/step - loss: 0.0030\n",
            "Epoch 39/100\n",
            "38/38 [==============================] - 7s 198ms/step - loss: 0.0033\n",
            "Epoch 40/100\n",
            "38/38 [==============================] - 7s 179ms/step - loss: 0.0030\n",
            "Epoch 41/100\n",
            "38/38 [==============================] - 8s 201ms/step - loss: 0.0028\n",
            "Epoch 42/100\n",
            "38/38 [==============================] - 8s 202ms/step - loss: 0.0031\n",
            "Epoch 43/100\n",
            "38/38 [==============================] - 7s 180ms/step - loss: 0.0030\n",
            "Epoch 44/100\n",
            "38/38 [==============================] - 8s 201ms/step - loss: 0.0031\n",
            "Epoch 45/100\n",
            "38/38 [==============================] - 7s 179ms/step - loss: 0.0032\n",
            "Epoch 46/100\n",
            "38/38 [==============================] - 8s 199ms/step - loss: 0.0030\n",
            "Epoch 47/100\n",
            "38/38 [==============================] - 8s 199ms/step - loss: 0.0033\n",
            "Epoch 48/100\n",
            "38/38 [==============================] - 7s 179ms/step - loss: 0.0031\n",
            "Epoch 49/100\n",
            "38/38 [==============================] - 8s 199ms/step - loss: 0.0030\n",
            "Epoch 50/100\n",
            "38/38 [==============================] - 7s 179ms/step - loss: 0.0029\n",
            "Epoch 51/100\n",
            "38/38 [==============================] - 8s 200ms/step - loss: 0.0026\n",
            "Epoch 52/100\n",
            "38/38 [==============================] - 8s 198ms/step - loss: 0.0029\n",
            "Epoch 53/100\n",
            "38/38 [==============================] - 7s 181ms/step - loss: 0.0029\n",
            "Epoch 54/100\n",
            "38/38 [==============================] - 8s 200ms/step - loss: 0.0029\n",
            "Epoch 55/100\n",
            "38/38 [==============================] - 7s 179ms/step - loss: 0.0027\n",
            "Epoch 56/100\n",
            "38/38 [==============================] - 8s 198ms/step - loss: 0.0028\n",
            "Epoch 57/100\n",
            "38/38 [==============================] - 8s 199ms/step - loss: 0.0025\n",
            "Epoch 58/100\n",
            "38/38 [==============================] - 7s 180ms/step - loss: 0.0030\n",
            "Epoch 59/100\n",
            "38/38 [==============================] - 8s 199ms/step - loss: 0.0026\n",
            "Epoch 60/100\n",
            "38/38 [==============================] - 7s 181ms/step - loss: 0.0027\n",
            "Epoch 61/100\n",
            "38/38 [==============================] - 7s 198ms/step - loss: 0.0024\n",
            "Epoch 62/100\n",
            "38/38 [==============================] - 7s 198ms/step - loss: 0.0026\n",
            "Epoch 63/100\n",
            "38/38 [==============================] - 7s 179ms/step - loss: 0.0025\n",
            "Epoch 64/100\n",
            "38/38 [==============================] - 8s 199ms/step - loss: 0.0025\n",
            "Epoch 65/100\n",
            "38/38 [==============================] - 7s 178ms/step - loss: 0.0024\n",
            "Epoch 66/100\n",
            "38/38 [==============================] - 8s 198ms/step - loss: 0.0025\n",
            "Epoch 67/100\n",
            "38/38 [==============================] - 8s 201ms/step - loss: 0.0029\n",
            "Epoch 68/100\n",
            "38/38 [==============================] - 7s 177ms/step - loss: 0.0024\n",
            "Epoch 69/100\n",
            "38/38 [==============================] - 8s 199ms/step - loss: 0.0026\n",
            "Epoch 70/100\n",
            "38/38 [==============================] - 7s 178ms/step - loss: 0.0023\n",
            "Epoch 71/100\n",
            "38/38 [==============================] - 8s 198ms/step - loss: 0.0024\n",
            "Epoch 72/100\n",
            "38/38 [==============================] - 8s 198ms/step - loss: 0.0025\n",
            "Epoch 73/100\n",
            "38/38 [==============================] - 7s 179ms/step - loss: 0.0023\n",
            "Epoch 74/100\n",
            "38/38 [==============================] - 7s 197ms/step - loss: 0.0028\n",
            "Epoch 75/100\n",
            "38/38 [==============================] - 7s 180ms/step - loss: 0.0022\n",
            "Epoch 76/100\n",
            "38/38 [==============================] - 8s 197ms/step - loss: 0.0026\n",
            "Epoch 77/100\n",
            "38/38 [==============================] - 8s 202ms/step - loss: 0.0023\n",
            "Epoch 78/100\n",
            "38/38 [==============================] - 7s 179ms/step - loss: 0.0019\n",
            "Epoch 79/100\n",
            "38/38 [==============================] - 7s 198ms/step - loss: 0.0023\n",
            "Epoch 80/100\n",
            "38/38 [==============================] - 7s 186ms/step - loss: 0.0026\n",
            "Epoch 81/100\n",
            "38/38 [==============================] - 7s 190ms/step - loss: 0.0021\n",
            "Epoch 82/100\n",
            "38/38 [==============================] - 8s 199ms/step - loss: 0.0021\n",
            "Epoch 83/100\n",
            "38/38 [==============================] - 7s 180ms/step - loss: 0.0022\n",
            "Epoch 84/100\n",
            "38/38 [==============================] - 8s 201ms/step - loss: 0.0020\n",
            "Epoch 85/100\n",
            "38/38 [==============================] - 7s 192ms/step - loss: 0.0020\n",
            "Epoch 86/100\n",
            "38/38 [==============================] - 7s 186ms/step - loss: 0.0024\n",
            "Epoch 87/100\n",
            "38/38 [==============================] - 8s 198ms/step - loss: 0.0021\n",
            "Epoch 88/100\n",
            "38/38 [==============================] - 7s 177ms/step - loss: 0.0022\n",
            "Epoch 89/100\n",
            "38/38 [==============================] - 8s 200ms/step - loss: 0.0022\n",
            "Epoch 90/100\n",
            "38/38 [==============================] - 7s 188ms/step - loss: 0.0021\n",
            "Epoch 91/100\n",
            "38/38 [==============================] - 7s 184ms/step - loss: 0.0021\n",
            "Epoch 92/100\n",
            "38/38 [==============================] - 8s 199ms/step - loss: 0.0019\n",
            "Epoch 93/100\n",
            "38/38 [==============================] - 7s 182ms/step - loss: 0.0020\n",
            "Epoch 94/100\n",
            "38/38 [==============================] - 8s 201ms/step - loss: 0.0019\n",
            "Epoch 95/100\n",
            "38/38 [==============================] - 7s 194ms/step - loss: 0.0020\n",
            "Epoch 96/100\n",
            "38/38 [==============================] - 7s 178ms/step - loss: 0.0021\n",
            "Epoch 97/100\n",
            "38/38 [==============================] - 8s 202ms/step - loss: 0.0020\n",
            "Epoch 98/100\n",
            "38/38 [==============================] - 7s 180ms/step - loss: 0.0018\n",
            "Epoch 99/100\n",
            "38/38 [==============================] - 8s 201ms/step - loss: 0.0019\n",
            "Epoch 100/100\n",
            "38/38 [==============================] - 8s 200ms/step - loss: 0.0020\n"
          ]
        },
        {
          "output_type": "execute_result",
          "data": {
            "text/plain": [
              "<keras.callbacks.History at 0x7f88983d5070>"
            ]
          },
          "metadata": {},
          "execution_count": 19
        }
      ]
    },
    {
      "cell_type": "code",
      "source": [
        "test = pd.read_csv('/content/Google_Stock_Price_Test.csv')\n",
        "real_stock_price = test.iloc[:, 1:2].values\n",
        "total_data=pd.concat([train['Open'],test['Open']],axis=0)"
      ],
      "metadata": {
        "id": "ATq88T58zpZe"
      },
      "execution_count": null,
      "outputs": []
    },
    {
      "cell_type": "code",
      "source": [
        "inputs=total_data[len(train)-len(test)-60:].values\n",
        "inputs=inputs.reshape(-1,1)\n",
        "inputs = sc.transform(inputs)"
      ],
      "metadata": {
        "id": "w_6jiz9tzwgp"
      },
      "execution_count": null,
      "outputs": []
    },
    {
      "cell_type": "code",
      "source": [
        "X_test=[]\n",
        "for i in range(60,80):\n",
        "    X_test.append(inputs[i-60:i,0])\n",
        "X_test=np.array(X_test)\n",
        "X_test.shape\n",
        "X_test=np.reshape(X_test,(X_test.shape[0],X_test.shape[1],1))"
      ],
      "metadata": {
        "id": "fnyCc7adzyQ9"
      },
      "execution_count": null,
      "outputs": []
    },
    {
      "cell_type": "code",
      "source": [
        "predicted_stock_price=regressor.predict(X_test)\n",
        "predicted_stock_price=sc.inverse_transform(predicted_stock_price)"
      ],
      "metadata": {
        "colab": {
          "base_uri": "https://localhost:8080/"
        },
        "id": "a_gnM3Hpz0cP",
        "outputId": "efd78a1e-3094-4e69-f854-949f7d939226"
      },
      "execution_count": null,
      "outputs": [
        {
          "output_type": "stream",
          "name": "stdout",
          "text": [
            "1/1 [==============================] - 2s 2s/step\n"
          ]
        }
      ]
    },
    {
      "cell_type": "code",
      "source": [
        "plt.rcParams[\"figure.figsize\"] = (12,8)\n",
        "plt.plot(predicted_stock_price,color='red',label='Predicted Stock Price')\n",
        "plt.plot(real_stock_price,color='blue',label='Real Stock Price')\n",
        "plt.title('Google Stock Price Prediction')\n",
        "plt.xlabel('Time')\n",
        "plt.ylabel('Stock Price')\n",
        "plt.legend()\n",
        "plt.show()"
      ],
      "metadata": {
        "colab": {
          "base_uri": "https://localhost:8080/",
          "height": 678
        },
        "id": "YqqkRolNz2cX",
        "outputId": "6b7b2144-1b48-45c3-cc12-40b1ba9dccf6"
      },
      "execution_count": null,
      "outputs": [
        {
          "output_type": "display_data",
          "data": {
            "text/plain": [
              "<Figure size 1200x800 with 1 Axes>"
            ],
            "image/png": "[encoded data removed]"
          },
          "metadata": {}
        }
      ]
    }
  ]
}